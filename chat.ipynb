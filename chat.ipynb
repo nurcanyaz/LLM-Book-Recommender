{
 "cells": [
  {
   "cell_type": "code",
   "execution_count": null,
   "id": "bee275fc",
   "metadata": {},
   "outputs": [],
   "source": [
    "import google.generativeai as genai\n",
    "import os\n",
    "\n",
    "# Set api key\n",
    "os.environ[\"GOOGLE_API_KEY\"] = \"YOUR_API_KEY\"\n",
    "genai.configure(api_key=os.environ[\"GOOGLE_API_KEY\"])"
   ]
  },
  {
   "cell_type": "code",
   "execution_count": null,
   "id": "4ef9a0c0",
   "metadata": {},
   "outputs": [],
   "source": [
    "# Function to list available models\n",
    "def list_available_models():\n",
    "    models = genai.list_models()\n",
    "    for model in models:\n",
    "        print(\"====================================================--------------------------\")\n",
    "        print(f\"Model Name: {model.name}, \\n Description: {getattr(model, 'description', 'No description available')}\")\n",
    "        print(\"====================================================--------------------------\")\n",
    "\n",
    "# Call the function to list models\n",
    "list_available_models()"
   ]
  },
  {
   "cell_type": "code",
   "execution_count": null,
   "id": "e8cb46f0",
   "metadata": {},
   "outputs": [],
   "source": [
    "model = genai.GenerativeModel(\"gemini-1.5-pro-latest\")"
   ]
  },
  {
   "cell_type": "code",
   "execution_count": null,
   "id": "26dc1c5a",
   "metadata": {},
   "outputs": [],
   "source": [
    "prompt = \"What is universe\""
   ]
  },
  {
   "cell_type": "code",
   "execution_count": null,
   "id": "049fe6d8",
   "metadata": {},
   "outputs": [],
   "source": [
    "model.generate_content(prompt).text"
   ]
  },
  {
   "cell_type": "code",
   "execution_count": null,
   "id": "cd96f153",
   "metadata": {},
   "outputs": [],
   "source": [
    "# Function to generate content\n",
    "def generate_content(prompt):\n",
    "    response = model.generate_content(prompt)\n",
    "    return response.text"
   ]
  },
  {
   "cell_type": "code",
   "execution_count": null,
   "id": "40518ea0",
   "metadata": {},
   "outputs": [],
   "source": [
    "#\n",
    "prompt = input(\"How may i help Today............\")\n",
    "content = generate_content(prompt)\n",
    "\n",
    "print(\"\\n\\n==================================\\n\",content)"
   ]
  },
  {
   "cell_type": "code",
   "execution_count": null,
   "id": "aef5042d",
   "metadata": {},
   "outputs": [],
   "source": []
  }
 ],
 "metadata": {
  "kernelspec": {
   "display_name": "chatenv",
   "language": "python",
   "name": "python3"
  },
  "language_info": {
   "codemirror_mode": {
    "name": "ipython",
    "version": 3
   },
   "file_extension": ".py",
   "mimetype": "text/x-python",
   "name": "python",
   "nbconvert_exporter": "python",
   "pygments_lexer": "ipython3",
   "version": "3.11.5"
  }
 },
 "nbformat": 4,
 "nbformat_minor": 5
}
